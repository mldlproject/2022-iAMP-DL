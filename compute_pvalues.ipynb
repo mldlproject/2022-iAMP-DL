{
 "cells": [
  {
   "cell_type": "code",
   "execution_count": 1,
   "id": "498922a0",
   "metadata": {},
   "outputs": [],
   "source": [
    "import numpy as np\n",
    "import scipy"
   ]
  },
  {
   "cell_type": "code",
   "execution_count": 2,
   "id": "f2b264fd",
   "metadata": {},
   "outputs": [],
   "source": [
    "AUCROC = [0.8803, 0.8822, 0.8800, 0.8861, 0.8815, 0.8773, 0.8804, 0.8821, 0.8800, 0.8814]\n",
    "AmPEP_ROC = 0.7514\n",
    "AMP_Scanner_DNN_ROC = 0.8066\n",
    "Deep_AmPEP30_ROC = 0.8531"
   ]
  },
  {
   "cell_type": "code",
   "execution_count": 3,
   "id": "d0b33dc6",
   "metadata": {},
   "outputs": [
    {
     "name": "stderr",
     "output_type": "stream",
     "text": [
      "<frozen importlib._bootstrap>:219: RuntimeWarning: scipy._lib.messagestream.MessageStream size changed, may indicate binary incompatibility. Expected 56 from C header, got 64 from PyObject\n"
     ]
    },
    {
     "data": {
      "text/plain": [
       "TtestResult(statistic=182.57349643449552, pvalue=1.1282922451395148e-17, df=9)"
      ]
     },
     "execution_count": 3,
     "metadata": {},
     "output_type": "execute_result"
    }
   ],
   "source": [
    "scipy.stats.ttest_1samp(AUCROC, popmean=AmPEP_ROC, alternative=\"greater\")"
   ]
  },
  {
   "cell_type": "code",
   "execution_count": 4,
   "id": "d816dd8f",
   "metadata": {},
   "outputs": [
    {
     "data": {
      "text/plain": [
       "TtestResult(statistic=104.88863554507783, pvalue=1.6513232022689746e-15, df=9)"
      ]
     },
     "execution_count": 4,
     "metadata": {},
     "output_type": "execute_result"
    }
   ],
   "source": [
    "scipy.stats.ttest_1samp(AUCROC, popmean=AMP_Scanner_DNN_ROC, alternative=\"greater\")"
   ]
  },
  {
   "cell_type": "code",
   "execution_count": 5,
   "id": "9f6e4ebd",
   "metadata": {},
   "outputs": [
    {
     "data": {
      "text/plain": [
       "TtestResult(statistic=39.44758425236189, pvalue=1.07500564246123e-11, df=9)"
      ]
     },
     "execution_count": 5,
     "metadata": {},
     "output_type": "execute_result"
    }
   ],
   "source": [
    "scipy.stats.ttest_1samp(AUCROC, popmean=Deep_AmPEP30_ROC, alternative=\"greater\")"
   ]
  },
  {
   "cell_type": "code",
   "execution_count": 6,
   "id": "45159092",
   "metadata": {},
   "outputs": [],
   "source": [
    "AUCPR = [0.8924, 0.9010, 0.8911, 0.8928, 0.8920, 0.8899, 0.8878, 0.8918, 0.8912, 0.8958]\n",
    "AmPEP_PR = 0.6863\n",
    "AMP_Scanner_DNN_PR = 0.7778\n",
    "Deep_AmPEP30_PR = 0.8536"
   ]
  },
  {
   "cell_type": "code",
   "execution_count": 7,
   "id": "3544dd38",
   "metadata": {},
   "outputs": [
    {
     "data": {
      "text/plain": [
       "TtestResult(statistic=181.37275127149948, pvalue=1.1973095832875161e-17, df=9)"
      ]
     },
     "execution_count": 7,
     "metadata": {},
     "output_type": "execute_result"
    }
   ],
   "source": [
    "scipy.stats.ttest_1samp(AUCPR, popmean=AmPEP_PR, alternative=\"greater\")"
   ]
  },
  {
   "cell_type": "code",
   "execution_count": 8,
   "id": "f0b43a30",
   "metadata": {},
   "outputs": [
    {
     "data": {
      "text/plain": [
       "TtestResult(statistic=100.92090552134331, pvalue=2.3358305109525687e-15, df=9)"
      ]
     },
     "execution_count": 8,
     "metadata": {},
     "output_type": "execute_result"
    }
   ],
   "source": [
    "scipy.stats.ttest_1samp(AUCPR, popmean=AMP_Scanner_DNN_PR, alternative=\"greater\")"
   ]
  },
  {
   "cell_type": "code",
   "execution_count": 9,
   "id": "57ee16d3",
   "metadata": {},
   "outputs": [
    {
     "data": {
      "text/plain": [
       "TtestResult(statistic=34.27336554471125, pvalue=3.7815414552071715e-11, df=9)"
      ]
     },
     "execution_count": 9,
     "metadata": {},
     "output_type": "execute_result"
    }
   ],
   "source": [
    "scipy.stats.ttest_1samp(AUCPR, popmean=Deep_AmPEP30_PR, alternative=\"greater\")"
   ]
  },
  {
   "cell_type": "code",
   "execution_count": null,
   "id": "1a443f0c",
   "metadata": {},
   "outputs": [],
   "source": []
  }
 ],
 "metadata": {
  "kernelspec": {
   "display_name": "Python 3 (ipykernel)",
   "language": "python",
   "name": "python3"
  },
  "language_info": {
   "codemirror_mode": {
    "name": "ipython",
    "version": 3
   },
   "file_extension": ".py",
   "mimetype": "text/x-python",
   "name": "python",
   "nbconvert_exporter": "python",
   "pygments_lexer": "ipython3",
   "version": "3.8.11"
  }
 },
 "nbformat": 4,
 "nbformat_minor": 5
}
